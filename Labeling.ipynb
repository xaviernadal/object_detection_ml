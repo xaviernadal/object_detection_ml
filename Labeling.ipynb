{
 "metadata": {
  "language_info": {
   "codemirror_mode": {
    "name": "ipython",
    "version": 3
   },
   "file_extension": ".py",
   "mimetype": "text/x-python",
   "name": "python",
   "nbconvert_exporter": "python",
   "pygments_lexer": "ipython3",
   "version": "3.6.9"
  },
  "orig_nbformat": 2,
  "kernelspec": {
   "name": "python369jvsc74a57bd031f2aee4e71d21fbe5cf8b01ff0e069b9275f58929596ceb00d14d90e3e16cd6",
   "display_name": "Python 3.6.9 64-bit"
  },
  "metadata": {
   "interpreter": {
    "hash": "31f2aee4e71d21fbe5cf8b01ff0e069b9275f58929596ceb00d14d90e3e16cd6"
   }
  }
 },
 "nbformat": 4,
 "nbformat_minor": 2,
 "cells": [
  {
   "cell_type": "code",
   "execution_count": 1,
   "metadata": {},
   "outputs": [
    {
     "output_type": "stream",
     "name": "stdout",
     "text": [
      "Defaulting to user installation because normal site-packages is not writeable\n",
      "Requirement already satisfied: opencv-python in /home/xavi_nadal/.local/lib/python3.6/site-packages (4.5.2.52)\n",
      "Requirement already satisfied: numpy>=1.13.3 in /home/xavi_nadal/.local/lib/python3.6/site-packages (from opencv-python) (1.19.5)\n"
     ]
    }
   ],
   "source": [
    "!pip3 install opencv-python"
   ]
  },
  {
   "cell_type": "code",
   "execution_count": 2,
   "metadata": {},
   "outputs": [],
   "source": [
    "import cv2\n",
    "import uuid \n",
    "import os\n",
    "import time"
   ]
  },
  {
   "cell_type": "code",
   "execution_count": 3,
   "metadata": {},
   "outputs": [],
   "source": [
    "labels = ['pedra', 'paper', 'tisora', 'pistola']\n",
    "number_imgs = 3"
   ]
  },
  {
   "cell_type": "code",
   "execution_count": 4,
   "metadata": {},
   "outputs": [],
   "source": [
    "IMAGES_PATH = os.path.join('Tensorflow', 'workspace', 'images', 'collectedimages')"
   ]
  },
  {
   "cell_type": "code",
   "execution_count": 5,
   "metadata": {},
   "outputs": [],
   "source": [
    "if not os.path.exists(IMAGES_PATH):\n",
    "    !mkdir -p {IMAGES_PATH}\n",
    "for label in labels:\n",
    "    path = os.path.join(IMAGES_PATH, label)\n",
    "    if not os.path.exists(path):\n",
    "        !mkdir {path}"
   ]
  },
  {
   "cell_type": "code",
   "execution_count": 6,
   "metadata": {},
   "outputs": [
    {
     "output_type": "stream",
     "name": "stdout",
     "text": [
      "Take photos? y = yes, n = no\n"
     ]
    }
   ],
   "source": [
    "print(\"Take photos? y = yes, n = no\")\n",
    "answer = input()\n",
    "if answer == \"n\":\n",
    "    number_imgs = 0"
   ]
  },
  {
   "cell_type": "code",
   "execution_count": 7,
   "metadata": {},
   "outputs": [
    {
     "output_type": "stream",
     "name": "stdout",
     "text": [
      "Collecting images for pedra\n",
      "Collecting image 0\n"
     ]
    }
   ],
   "source": [
    "for label in labels:\n",
    "    print('Collecting images for {}'.format(label))\n",
    "    for imgnum in range(number_imgs):\n",
    "        cap = cv2.VideoCapture(0)\n",
    "        cv2.waitKey(0)\n",
    "        time.sleep(2)\n",
    "        print('Collecting image {}'.format(imgnum))\n",
    "        ret, frame = cap.read()\n",
    "        mirrorImage = cv2.flip(frame, 1)\n",
    "        if not ret:\n",
    "            print(\"Failed\")\n",
    "            break\n",
    "        imgname = os.path.join(IMAGES_PATH,label,label+'.'+'{}.jpg'.format(str(uuid.uuid1())))\n",
    "        cv2.imshow('frame', mirrorImage)\n",
    "        cv2.imwrite(imgname, mirrorImage)  \n",
    "        cap.release()\n",
    "               \n",
    "cv2.destroyAllWindows()"
   ]
  },
  {
   "cell_type": "code",
   "execution_count": 8,
   "metadata": {},
   "outputs": [
    {
     "output_type": "stream",
     "name": "stdout",
     "text": [
      "Defaulting to user installation because normal site-packages is not writeable\n",
      "Requirement already satisfied: pyqt5 in /home/xavi_nadal/.local/lib/python3.6/site-packages (5.10.1)\n",
      "Collecting pyqt5\n",
      "  Using cached PyQt5-5.15.4-cp36.cp37.cp38.cp39-abi3-manylinux2014_x86_64.whl (8.3 MB)\n",
      "Requirement already satisfied: lxml in /home/xavi_nadal/.local/lib/python3.6/site-packages (4.6.3)\n",
      "Requirement already satisfied: PyQt5-Qt5>=5.15 in /home/xavi_nadal/.local/lib/python3.6/site-packages (from pyqt5) (5.15.2)\n",
      "Requirement already satisfied: PyQt5-sip<13,>=12.8 in /home/xavi_nadal/.local/lib/python3.6/site-packages (from pyqt5) (12.9.0)\n",
      "Installing collected packages: pyqt5\n",
      "  Attempting uninstall: pyqt5\n",
      "    Found existing installation: PyQt5 5.10.1\n",
      "    Uninstalling PyQt5-5.10.1:\n",
      "      Successfully uninstalled PyQt5-5.10.1\n",
      "Successfully installed pyqt5-5.15.4\n"
     ]
    }
   ],
   "source": [
    "!pip install --upgrade pyqt5 lxml"
   ]
  },
  {
   "cell_type": "code",
   "execution_count": 9,
   "metadata": {},
   "outputs": [],
   "source": [
    "LABELIMG_PATH = os.path.join('Tensorflow', 'labelimg')"
   ]
  },
  {
   "cell_type": "code",
   "execution_count": 10,
   "metadata": {},
   "outputs": [],
   "source": [
    "if not os.path.exists(LABELIMG_PATH):\n",
    "    !mkdir {LABELIMG_PATH}\n",
    "    !git clone https://github.com/tzutalin/labelImg {LABELIMG_PATH}"
   ]
  },
  {
   "cell_type": "code",
   "execution_count": 11,
   "metadata": {},
   "outputs": [
    {
     "output_type": "stream",
     "name": "stdout",
     "text": [
      "Defaulting to user installation because normal site-packages is not writeable\n",
      "Collecting pyqt5==5.10.1\n",
      "  Using cached PyQt5-5.10.1-5.10.1-cp35.cp36.cp37.cp38-abi3-manylinux1_x86_64.whl (107.8 MB)\n",
      "Requirement already satisfied: lxml==4.6.3 in /home/xavi_nadal/.local/lib/python3.6/site-packages (from -r requirements/requirements-linux-python3.txt (line 2)) (4.6.3)\n",
      "Requirement already satisfied: sip<4.20,>=4.19.4 in /home/xavi_nadal/.local/lib/python3.6/site-packages (from pyqt5==5.10.1->-r requirements/requirements-linux-python3.txt (line 1)) (4.19.8)\n",
      "Installing collected packages: pyqt5\n",
      "  Attempting uninstall: pyqt5\n",
      "    Found existing installation: PyQt5 5.15.4\n",
      "    Uninstalling PyQt5-5.15.4:\n",
      "      Successfully uninstalled PyQt5-5.15.4\n",
      "Successfully installed pyqt5-5.10.1\n",
      "pyrcc5 -o libs/resources.py resources.qrc\n"
     ]
    }
   ],
   "source": [
    "#Només per a linux\n",
    "\n",
    "!cd {LABELIMG_PATH} && pip3 install -r requirements/requirements-linux-python3.txt\n",
    "!cd {LABELIMG_PATH} && make qt5py3"
   ]
  },
  {
   "cell_type": "code",
   "execution_count": 12,
   "metadata": {
    "tags": []
   },
   "outputs": [],
   "source": [
    "!cd {LABELIMG_PATH} && python3 labelImg.py"
   ]
  },
  {
   "cell_type": "code",
   "execution_count": null,
   "metadata": {},
   "outputs": [],
   "source": []
  }
 ]
}